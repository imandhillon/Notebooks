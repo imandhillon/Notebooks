{
 "cells": [
  {
   "cell_type": "markdown",
   "metadata": {},
   "source": [
    "# Regex and re in Python\n",
    "\n",
    "### The fundamentals of regex and an overview of the re module in Python.\n",
    "\n",
    "\n",
    "Regular expressions are a widely used toolset for accomplishing many tasks. At the core, their purpose is for finding patterns in character strings, or text, so that we can easily manipulate the text or do something with the information gained or patterns found. This page will go over the special characters used within regular expressions as well as the functions within the re module in Python and how they may be used.\n",
    "\n",
    "\n",
    "## Regular Expressions\n",
    "\n",
    "Regular Expressions are a special sequence of characters that will match a particular pattern in another string of characters. It's a bit like a language in it of itself, with its own syntax and behavior. It's not turing complete of course, as you can't increment or decrement a string with it alone.\n",
    "A regular expression in Python will take the form of:\n",
    "\n",
    "    r'(pattern to match)'\n",
    "\n",
    "\n",
    "### Raw String Literals\n",
    "The 'r' is used to avoid ambiguity in interpretation of certain special characters, such as the backslash ('\\') or quotation marks (\"\"), which would be caused by the parsing of the string done by Python's parser, followed by Python's regular expression parser. R or r used as the prefix to the expression means 'raw string literal', which makes Python's first parser treat the sequence as a simple string, ignoring or passing over it, in a way. Namely, a few examples of where this is relevant would include:\n",
    "\n",
    "    r'\\n' == '\\\\n'\n",
    "Which matches a '\\' followed by a 'n', so a two character string instead of a one, as '\\n' (newline) is.\n",
    "    \n",
    "    r'[\"'](.*)[\"']' == '[\\\"\\'](.*)[\\\"\\']'\n",
    "    \n",
    "Likewise, this prevents the quotations from tripping the interpreter up, as the expression would get cut off at this part otherwise:\n",
    "\n",
    "    r'[\"'\n",
    "And the rest of it would cause an error.\n",
    "\n",
    "So the backslash could be used instead of the 'r' in order to escape these characters, but it is standard practice and easier to read if we just use 'r'.\n",
    "\n"
   ]
  },
  {
   "cell_type": "code",
   "execution_count": 1,
   "metadata": {},
   "outputs": [
    {
     "name": "stdout",
     "output_type": "stream",
     "text": [
      "1:  \n",
      " (newline) \n",
      "\n",
      "2:  \n",
      " (newline) \n",
      "\n",
      "3:  \\n \n",
      "\n",
      "4:  None \n",
      "\n",
      "5:  \n",
      " (newline) \n",
      "\n",
      "6:  'hi'\n"
     ]
    }
   ],
   "source": [
    "import re\n",
    "\n",
    "r = re.match(r'\\n', '\\n').group()\n",
    "print('1: ',r, '(newline)', '\\n')\n",
    "\n",
    "r = re.match('\\n', '\\n').group()\n",
    "print('2: ', r, '(newline)', '\\n')\n",
    "\n",
    "r = re.match(r'\\\\n', '\\\\n').group()\n",
    "print('3: ',r, '\\n')\n",
    "\n",
    "r = re.match('\\\\n', '\\\\n')\n",
    "print('4: ',r, '\\n')\n",
    "\n",
    "r = re.match('\\\\n', '\\n').group()\n",
    "print('5: ',r, '(newline)', '\\n')\n",
    "\n",
    "r = re.match('[\\\"\\'](.*)[\\\"\\']', \"\\'hi\\'\" ).group()\n",
    "print('6: ',r)"
   ]
  },
  {
   "cell_type": "markdown",
   "metadata": {},
   "source": [
    "### Special Characters\n",
    "\n",
    "Here are a bunch of special charaters used by the engine to represent certain matching behaviors or patterns. Essentially the syntax of this 'language'. \n",
    "\n",
    "* ```.``` - Period. This will match any single character, except newline.\n",
    "* ```\\w``` - Word character. This will match any single letter, digit, or underscore.\n",
    "* ```\\W``` - Complement set of word character. Matches anything \\w won't.\n",
    "* ```\\s``` - Whitespace character. Matches single newline, tab, space, carriage return (\\n, \\t, ' ', \\r).\n",
    "  * You can also choose to match a specific one with just \\n or \\t, or whatever you want.\n",
    "* ```\\S``` - Any non-whitespace character.\n",
    "* ```\\d``` - Any single number (digit).\n",
    "* ```\\D``` - Any non-number.\n",
    "* ```^``` - Caret. (Equal to \\A at start of string) Starts the match only at the start of a string. This can be made to work as a multiline operator with the parameter flags=re.MULTILINE, given in most re functions, which will look for the pattern after every \\n in the string\n",
    "* ```$``` - Dollar sign. Matches a pattern at the end of string. Can also work with multiline.\n",
    "* ```\\z``` - End of string.\n",
    "* ```\\Z``` - End of string or just before newline, if it exists."
   ]
  },
  {
   "cell_type": "code",
   "execution_count": 2,
   "metadata": {},
   "outputs": [
    {
     "name": "stdout",
     "output_type": "stream",
     "text": [
      "['hi', 'como?']\n",
      "['hi']\n",
      "['hi', 'como?']\n"
     ]
    }
   ],
   "source": [
    "r = re.findall('^[\\\"\\'](.*)[\\\"\\']', \"\\'hi\\'\\nWon't match\\'hello\\'\\n\\'como?\\'\", flags=re.MULTILINE)\n",
    "print(r)\n",
    "r = re.findall('^[\\\"\\'](.*)[\\\"\\']', \"\\'hi\\'\\nWon't match\\'hello\\'\\n\\'como?\\'\")\n",
    "print(r)\n",
    "r = re.findall('^[\\\"\\'](.*)[\\\"\\']$', \"\\'hi\\'\\nWon't match\\'hello\\'\\n\\'como?\\'\", flags=re.MULTILINE)\n",
    "print(r)"
   ]
  },
  {
   "cell_type": "markdown",
   "metadata": {},
   "source": [
    "* ```[abc]``` - Character class (square brackets). Match a or b or c."
   ]
  },
  {
   "cell_type": "code",
   "execution_count": 3,
   "metadata": {},
   "outputs": [
    {
     "name": "stdout",
     "output_type": "stream",
     "text": [
      "['a', 'b', 'c', 'b']\n"
     ]
    }
   ],
   "source": [
    "r = re.findall(r'[abc]', 'abc\\nb')\n",
    "print(r)"
   ]
  },
  {
   "cell_type": "markdown",
   "metadata": {},
   "source": [
    "* ```\\b``` - Word boundary. Match where there is a word character preceded or followed by a non-word character.\n",
    "* ```\\B``` - Complement. So the match must be within a word.\n",
    "* ```[a-zA-Z0-9]``` - Match any letter or digit.\n",
    "* ```[^a-zA-Z0-9]``` - Match anything else. (Complement set)\n",
    "* ```()``` - Group. Work pretty much like parenthesis in math equations. Operators apply to each item in them (Shown right below).\n",
    "\n",
    "#### Repetition Operators\n",
    "* ```?``` - 0 or 1 of the preceding value.\n",
    "  * r'or?' will match an o followed by 0 or 1 r's.\n",
    "  * r'(or)?' will match 0 or 1 instances of 'or'.\n",
    "* ```+``` - 1 or more instances of the preceding pattern.\n",
    "* ```*``` - 0 or more instances of the preceding pattern.\n",
    "* ```{n,}``` - Allows you to specify how many instances of the pattern to match. n or more in this case. May opt to set an upper limit with {n,m}, where m > n, or exactly n matches with {n}.\n",
    "##### Greedy vs Non-greedy Matching\n",
    "* <.*> - Greedy repetition: matches < python > perl >\n",
    "* <.*?> - Non-greedy: matches < python > in < python > perl >\n",
    "\n",
    "#### Backreferences\n",
    "* ```r'(['\"])[^\\1]*\\1'``` Here is the proper way to handle grabbing quotes (instead of the previous example). \\1 matches whatever was matched by the 1st matching group, in this case ensuring that the quotation marks line up. Use whatever number depending on the desired group.\n",
    "\n",
    "#### Alternatives\n",
    "* ```r'Python(!+|\\?)'``` - Matches 'Python' followed by one or more '!', or one '?'. The '|' is OR.\n",
    "\n",
    "Same as ```r'Python[(!+)(\\?)]'```\n",
    "\n",
    "#### Lookarounds\n",
    "Positive and negative lookbehinds and lookaheads allow you to check before or after a pattern for another pattern which doesn't get returned. It is a conditional, like the start or end of string anchors.\n",
    "q(?!u) will match a q, only if it is not followed by a u.\n",
    "\n",
    "* (?=_pattern) - Positive\n",
    "* (?!_pattern) - Negative\n",
    "\n",
    "\n",
    "A more comprehensive list with examples can be found at https://www.tutorialspoint.com/python/python_reg_expressions.htm"
   ]
  },
  {
   "cell_type": "markdown",
   "metadata": {},
   "source": [
    "## Python re Library Functions\n",
    "\n",
    "* ```re.compile(pattern)``` - Compiles an expression to be used with search, match, or whatever else.\n",
    "\n",
    "```prog = re.compile(pattern)\n",
    "result = prog.match(string)```\n",
    "\n",
    "    ==\n",
    "```result = re.match(pattern, string)```\n",
    "\n",
    "\n",
    "* ```re.search() vs re.match()```\n",
    "These functions will look through a given string for a specified pattern and return a match object if found, or None otherwise. Match will only look from the beginning of the string, even in multiline mode."
   ]
  },
  {
   "cell_type": "code",
   "execution_count": 4,
   "metadata": {},
   "outputs": [
    {
     "name": "stdout",
     "output_type": "stream",
     "text": [
      "None\n",
      "b\n"
     ]
    }
   ],
   "source": [
    "r = re.match(r'[abc]', 'ddd\\nba')\n",
    "print(r)\n",
    "r = re.search(r'[abc]', 'ddd\\nba').group()\n",
    "print(r)"
   ]
  },
  {
   "cell_type": "markdown",
   "metadata": {},
   "source": [
    "* ```re.fullmatch()``` - String must == pattern for a match object to be returned.\n",
    "\n",
    "* ```re.split()``` - Splits string by occurences of specified pattern. Returns list. Can opt to keep the non-matching components in the return list by putting parentheses around the expression. Fuller explanation at https://docs.python.org/3/library/re.html\n",
    "\n",
    "* ```re.findall()``` - Like search, but returns all matches. Use with .group() for a list of matches, as shown above. If there are one or more groups in the pattern, it will return a list of groups.\n",
    "\n",
    "* ```re.finditer()``` - Like findall, but yields matches with an iterator. This way, everything isn't kept in memory when it isn't needed.\n",
    "\n",
    "* ```re.sub(pattern, repl, string, count=0, flags=0)``` - Locate and replace instances of pattern in string with replacement string. Check the previous link for a fuller explanation.\n",
    "\n",
    "* ```re.subn()``` - Same as sub(), but also returns the number of subs made along with the new string in a tuple.\n",
    "\n",
    "* ```re.escape(pattern)``` - Puts backslashes before instances of special characters in pattern.\n",
    "\n",
    "* ```re.purge()``` - Clear regex cache.\n",
    "\n",
    "If you use re.compile(pattern), you can do this -> ```pattern.(insert re function)()```, which allows the use of optional arguemnts ```(string[, pos[, endpos]])``` for certain functions, like findall or match. You can also return a member variable from the class, like flags, groups, pattern, or groupindex.\n"
   ]
  }
 ],
 "metadata": {
  "kernelspec": {
   "display_name": "Python 3",
   "language": "python",
   "name": "python3"
  },
  "language_info": {
   "codemirror_mode": {
    "name": "ipython",
    "version": 3
   },
   "file_extension": ".py",
   "mimetype": "text/x-python",
   "name": "python",
   "nbconvert_exporter": "python",
   "pygments_lexer": "ipython3",
   "version": "3.6.5"
  }
 },
 "nbformat": 4,
 "nbformat_minor": 2
}
